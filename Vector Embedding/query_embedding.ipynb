{
 "cells": [
  {
   "cell_type": "markdown",
   "metadata": {},
   "source": [
    "#### `Imports`"
   ]
  },
  {
   "cell_type": "code",
   "execution_count": 1,
   "metadata": {},
   "outputs": [],
   "source": [
    "import ollama\n",
    "import json\n",
    "\n",
    "import logging\n",
    "logging.basicConfig(level=logging.INFO, format='%(asctime)s - %(levelname)s - %(message)s')"
   ]
  },
  {
   "cell_type": "markdown",
   "metadata": {},
   "source": [
    "#### `MAIN query_embedding`"
   ]
  },
  {
   "cell_type": "code",
   "execution_count": 7,
   "metadata": {},
   "outputs": [
    {
     "name": "stderr",
     "output_type": "stream",
     "text": [
      "2025-04-07 11:39:05,728 - INFO - Started query_embedding.\n",
      "2025-04-07 11:39:05,730 - INFO - Started load_query_data for migrated queries from path ../Query Processing/4_json_results/migrated_query_data.json.\n",
      "2025-04-07 11:39:05,735 - INFO - Completed load_query_data for migrated queries.\n",
      "2025-04-07 11:39:05,736 - INFO - Started embed_query_data for migrated queries.\n",
      "2025-04-07 11:39:08,347 - INFO - HTTP Request: POST http://127.0.0.1:11434/api/embed \"HTTP/1.1 200 OK\"\n",
      "2025-04-07 11:39:08,960 - INFO - HTTP Request: POST http://127.0.0.1:11434/api/embed \"HTTP/1.1 200 OK\"\n",
      "2025-04-07 11:39:09,980 - INFO - HTTP Request: POST http://127.0.0.1:11434/api/embed \"HTTP/1.1 200 OK\"\n",
      "2025-04-07 11:39:10,641 - INFO - HTTP Request: POST http://127.0.0.1:11434/api/embed \"HTTP/1.1 200 OK\"\n",
      "2025-04-07 11:39:13,291 - INFO - HTTP Request: POST http://127.0.0.1:11434/api/embed \"HTTP/1.1 200 OK\"\n",
      "2025-04-07 11:39:14,986 - INFO - HTTP Request: POST http://127.0.0.1:11434/api/embed \"HTTP/1.1 200 OK\"\n",
      "2025-04-07 11:39:15,480 - INFO - HTTP Request: POST http://127.0.0.1:11434/api/embed \"HTTP/1.1 200 OK\"\n",
      "2025-04-07 11:39:17,220 - INFO - HTTP Request: POST http://127.0.0.1:11434/api/embed \"HTTP/1.1 200 OK\"\n",
      "2025-04-07 11:39:18,054 - INFO - HTTP Request: POST http://127.0.0.1:11434/api/embed \"HTTP/1.1 200 OK\"\n",
      "2025-04-07 11:39:18,448 - INFO - HTTP Request: POST http://127.0.0.1:11434/api/embed \"HTTP/1.1 200 OK\"\n",
      "2025-04-07 11:39:18,742 - INFO - HTTP Request: POST http://127.0.0.1:11434/api/embed \"HTTP/1.1 200 OK\"\n",
      "2025-04-07 11:39:22,704 - INFO - HTTP Request: POST http://127.0.0.1:11434/api/embed \"HTTP/1.1 200 OK\"\n",
      "2025-04-07 11:39:26,610 - INFO - HTTP Request: POST http://127.0.0.1:11434/api/embed \"HTTP/1.1 200 OK\"\n",
      "2025-04-07 11:39:26,612 - INFO - Started write_query_data_to_json for migrated queries.\n",
      "2025-04-07 11:39:26,643 - INFO - Completed write_query_data_to_json for migrated queries.\n",
      "2025-04-07 11:39:26,644 - INFO - Queries successfully embedded.\n"
     ]
    }
   ],
   "source": [
    "query_embedding()"
   ]
  },
  {
   "cell_type": "markdown",
   "metadata": {},
   "source": [
    "#### `Methods`"
   ]
  },
  {
   "cell_type": "markdown",
   "metadata": {},
   "source": [
    "##### `query_embedding`"
   ]
  },
  {
   "cell_type": "code",
   "execution_count": 2,
   "metadata": {},
   "outputs": [],
   "source": [
    "def query_embedding():\n",
    "    logging.info(f\"Started {query_embedding.__name__}.\")\n",
    "\n",
    "    MIGRATED_QUERY_PATH = \"../Query Processing/4_json_results/migrated_query_data.json\"\n",
    "    MIGRATED_QUERY_IDENTIFIER = \"migrated\"\n",
    "    migrated_query_data = load_query_data(MIGRATED_QUERY_PATH, MIGRATED_QUERY_IDENTIFIER)\n",
    "    migrated_query_data_embedded = embed_query_data(migrated_query_data, MIGRATED_QUERY_IDENTIFIER)\n",
    "    write_query_data_to_json(migrated_query_data_embedded, MIGRATED_QUERY_IDENTIFIER)\n",
    "\n",
    "    # NEW_QUERY_PATH = \"../Query Processing/4_json_results/new_query_data.json\"\n",
    "    # NEW_QUERY_IDENTIFIER = \"new\"\n",
    "    # new_query_data = load_query_data(NEW_QUERY_PATH, NEW_QUERY_IDENTIFIER)\n",
    "    # new_query_data_embedded = embed_query_data(new_query_data, NEW_QUERY_IDENTIFIER)\n",
    "    # write_query_data_to_json(new_query_data_embedded, NEW_QUERY_IDENTIFIER)\n",
    "\n",
    "    logging.info(f\"Queries successfully embedded.\")"
   ]
  },
  {
   "cell_type": "markdown",
   "metadata": {},
   "source": [
    "##### `load_query_data`"
   ]
  },
  {
   "cell_type": "code",
   "execution_count": null,
   "metadata": {},
   "outputs": [],
   "source": [
    "def load_query_data(PATH, QUERY_IDENTIFIER):\n",
    "    \"\"\"\n",
    "    Load query metadata from a JSON file and log the process.\n",
    "\n",
    "    Parameters:\n",
    "    PATH (str): The file path to the JSON file containing the query metadata.\n",
    "    QUERY_IDENTIFIER (str): A string identifier used to label the type of queries being processed.\n",
    "\n",
    "    Returns:\n",
    "    dict: A dictionary containing the query metadata loaded from the JSON file.\n",
    "\n",
    "    Function Workflow:\n",
    "    1. Log the start of the function execution, including the QUERY_IDENTIFIER and PATH.\n",
    "    2. Open the JSON file specified by PATH and load its contents into a dictionary.\n",
    "    3. Log the completion of the function execution.\n",
    "    4. Return the loaded query metadata.\n",
    "    \"\"\"\n",
    "    logging.info(f\"Started {load_query_data.__name__} for {QUERY_IDENTIFIER} queries from path {PATH}.\")\n",
    "\n",
    "    with open(PATH) as f:\n",
    "        query_meta_data = json.load(f)\n",
    "\n",
    "    logging.info(f\"Completed {load_query_data.__name__} for {QUERY_IDENTIFIER} queries.\")\n",
    "    return query_meta_data"
   ]
  },
  {
   "cell_type": "markdown",
   "metadata": {},
   "source": [
    "##### `embed_query_data`"
   ]
  },
  {
   "cell_type": "code",
   "execution_count": null,
   "metadata": {},
   "outputs": [],
   "source": [
    "def embed_query_data(query_meta_data, QUERY_IDENTIFIER):\n",
    "    \"\"\"\n",
    "    Embed query metadata using a specified model and update the metadata with the embedding results.\n",
    "\n",
    "    Parameters:\n",
    "    query_meta_data (dict): A dictionary containing query metadata. Each key-value pair represents a query and its associated metadata.\n",
    "    QUERY_IDENTIFIER (str): A string identifier used to label the type of queries being processed.\n",
    "\n",
    "    Returns:\n",
    "    dict: The updated query metadata dictionary, now containing embeddings for each query.\n",
    "\n",
    "    Function Workflow:\n",
    "    1. Log the start of the function execution, including the QUERY_IDENTIFIER.\n",
    "    2. Iterate over each key-value pair in the query_meta_data dictionary:\n",
    "        - Join the query metadata into a single format suitable for embedding using the join_query_meta_data function.\n",
    "        - Generate embeddings for the joined query data using the specified model (\"mxbai-embed-large\").\n",
    "        - Update the query metadata with the generated embeddings.\n",
    "    3. Return the updated query metadata dictionary.\n",
    "    \"\"\"\n",
    "    logging.info(f\"Started {embed_query_data.__name__} for {QUERY_IDENTIFIER} queries.\")\n",
    "\n",
    "    for query_key, query_value in query_meta_data.items():\n",
    "        joined_query_data = join_query_meta_data(query_value)\n",
    "        response = ollama.embed(model=\"mxbai-embed-large\", input=joined_query_data)\n",
    "        query_meta_data[query_key][\"embedding\"] = response[\"embeddings\"]\n",
    "\n",
    "    return query_meta_data"
   ]
  },
  {
   "cell_type": "markdown",
   "metadata": {},
   "source": [
    "##### `join_query_meta_data`"
   ]
  },
  {
   "cell_type": "code",
   "execution_count": null,
   "metadata": {},
   "outputs": [],
   "source": [
    "def join_query_meta_data(query_value):\n",
    "    \"\"\"\n",
    "    Join all elements of the query metadata into a single string.\n",
    "\n",
    "    Parameters:\n",
    "    query_value (dict): A dictionary containing metadata for a query. The values can be lists or individual elements.\n",
    "\n",
    "    Returns:\n",
    "    str: A single string containing all elements of the query metadata, joined by commas.\n",
    "\n",
    "    Function Workflow:\n",
    "    1. Initialize an empty list to store all elements.\n",
    "    2. Iterate over each key-value pair in the query_value dictionary:\n",
    "        - If the value is a list, extend the all_elements list with the items in the list.\n",
    "        - If the value is not a list, append the value to the all_elements list.\n",
    "    3. Join all elements in the all_elements list into a single string, separated by commas.\n",
    "    4. Return the resulting string.\n",
    "    \"\"\"\n",
    "    all_elements = []\n",
    "    for key, value in query_value.items():\n",
    "        if isinstance(value, list):\n",
    "            all_elements.extend(value)\n",
    "        else:\n",
    "            all_elements.append(value)\n",
    "\n",
    "    return \", \".join(all_elements)"
   ]
  },
  {
   "cell_type": "markdown",
   "metadata": {},
   "source": [
    "##### `write_query_data_to_json`"
   ]
  },
  {
   "cell_type": "code",
   "execution_count": null,
   "metadata": {},
   "outputs": [],
   "source": [
    "def write_query_data_to_json(queries, QUERY_IDENTIFIER):\n",
    "    \"\"\"\n",
    "    Write query data with embeddings to a JSON file and log the process.\n",
    "\n",
    "    Parameters:\n",
    "    queries (dict): A dictionary containing the query data with embeddings.\n",
    "    QUERY_IDENTIFIER (str): A string identifier used to label the type of queries being processed.\n",
    "\n",
    "    Returns:\n",
    "    None\n",
    "\n",
    "    Function Workflow:\n",
    "    1. Log the start of the function execution, including the QUERY_IDENTIFIER.\n",
    "    2. Define the path for the output JSON file based on the QUERY_IDENTIFIER.\n",
    "    3. Open the JSON file for writing with UTF-8 encoding.\n",
    "    4. Write the query data to the JSON file with indentation and ensure ASCII characters are preserved.\n",
    "    5. Log the completion of the function execution.\n",
    "    \"\"\"\n",
    "    logging.info(f\"Started {write_query_data_to_json.__name__} for {QUERY_IDENTIFIER} queries.\")\n",
    "\n",
    "    JSON_PATH = f\"./json_results/{QUERY_IDENTIFIER}_query_data_with_embedding.json\"\n",
    "\n",
    "    with open(JSON_PATH, \"w\", encoding=\"utf-8\") as outfile:\n",
    "        json.dump(queries, outfile, indent=4, ensure_ascii=False)\n",
    "\n",
    "    logging.info(f\"Completed {write_query_data_to_json.__name__} for {QUERY_IDENTIFIER} queries.\")"
   ]
  },
  {
   "cell_type": "code",
   "execution_count": null,
   "metadata": {},
   "outputs": [],
   "source": []
  }
 ],
 "metadata": {
  "kernelspec": {
   "display_name": "Python 3",
   "language": "python",
   "name": "python3"
  },
  "language_info": {
   "codemirror_mode": {
    "name": "ipython",
    "version": 3
   },
   "file_extension": ".py",
   "mimetype": "text/x-python",
   "name": "python",
   "nbconvert_exporter": "python",
   "pygments_lexer": "ipython3",
   "version": "3.13.1"
  }
 },
 "nbformat": 4,
 "nbformat_minor": 2
}
