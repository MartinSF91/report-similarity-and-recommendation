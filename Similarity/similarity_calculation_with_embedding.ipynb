{
 "cells": [
  {
   "cell_type": "code",
   "execution_count": 2,
   "metadata": {},
   "outputs": [],
   "source": [
    "import json\n",
    "import numpy as np\n",
    "from sklearn.metrics.pairwise import cosine_similarity\n",
    "import pandas as pd\n",
    "pd.set_option('display.max_rows', 300)"
   ]
  },
  {
   "cell_type": "markdown",
   "metadata": {},
   "source": [
    "##### `calculate_query_similarity`"
   ]
  },
  {
   "cell_type": "code",
   "execution_count": 3,
   "metadata": {},
   "outputs": [],
   "source": [
    "def calculate_query_similarity():\n",
    "\n",
    "    MIGRATED_QUERIES_PATH = \"../Vector Embedding/json_results/migrated_query_data_with_embedding.json\"\n",
    "    migrated_queries = load_query_data(MIGRATED_QUERIES_PATH)\n",
    "\n",
    "    NEW_QUERIES_PATH = \"../Vector Embedding/json_results/new_query_data_with_embedding.json\"\n",
    "    new_queries = load_query_data(NEW_QUERIES_PATH)\n",
    "\n",
    "    return calculate_similarity(migrated_queries, new_queries)"
   ]
  },
  {
   "cell_type": "code",
   "execution_count": 9,
   "metadata": {},
   "outputs": [
    {
     "ename": "TypeError",
     "evalue": "string indices must be integers, not 'str'",
     "output_type": "error",
     "traceback": [
      "\u001b[1;31m---------------------------------------------------------------------------\u001b[0m",
      "\u001b[1;31mTypeError\u001b[0m                                 Traceback (most recent call last)",
      "Cell \u001b[1;32mIn[9], line 1\u001b[0m\n\u001b[1;32m----> 1\u001b[0m res \u001b[38;5;241m=\u001b[39m \u001b[43mcalculate_query_similarity\u001b[49m\u001b[43m(\u001b[49m\u001b[43m)\u001b[49m\n",
      "Cell \u001b[1;32mIn[3], line 9\u001b[0m, in \u001b[0;36mcalculate_query_similarity\u001b[1;34m()\u001b[0m\n\u001b[0;32m      6\u001b[0m NEW_QUERIES_PATH \u001b[38;5;241m=\u001b[39m \u001b[38;5;124m\"\u001b[39m\u001b[38;5;124m../Vector Embedding/json_results/new_query_data_with_embedding.json\u001b[39m\u001b[38;5;124m\"\u001b[39m\n\u001b[0;32m      7\u001b[0m new_queries \u001b[38;5;241m=\u001b[39m load_query_data(NEW_QUERIES_PATH)\n\u001b[1;32m----> 9\u001b[0m \u001b[38;5;28;01mreturn\u001b[39;00m \u001b[43mcalculate_similarity\u001b[49m\u001b[43m(\u001b[49m\u001b[43mmigrated_queries\u001b[49m\u001b[43m,\u001b[49m\u001b[43m \u001b[49m\u001b[43mnew_queries\u001b[49m\u001b[43m)\u001b[49m\n",
      "Cell \u001b[1;32mIn[8], line 12\u001b[0m, in \u001b[0;36mcalculate_similarity\u001b[1;34m(migrated_queries, new_queries)\u001b[0m\n\u001b[0;32m      8\u001b[0m     \u001b[38;5;28;01mfor\u001b[39;00m migrated_query_name, migrated_query_value \u001b[38;5;129;01min\u001b[39;00m migrated_queries\u001b[38;5;241m.\u001b[39mitems():\n\u001b[0;32m      9\u001b[0m         vec2 \u001b[38;5;241m=\u001b[39m np\u001b[38;5;241m.\u001b[39marray(migrated_query_value\u001b[38;5;241m.\u001b[39mget(\u001b[38;5;124m\"\u001b[39m\u001b[38;5;124membedding\u001b[39m\u001b[38;5;124m\"\u001b[39m, []))\u001b[38;5;241m.\u001b[39mreshape(\u001b[38;5;241m1\u001b[39m, \u001b[38;5;241m-\u001b[39m\u001b[38;5;241m1\u001b[39m)\n\u001b[0;32m     11\u001b[0m         similarities\u001b[38;5;241m.\u001b[39mappend(\n\u001b[1;32m---> 12\u001b[0m             [\u001b[43mnew_query_name\u001b[49m\u001b[43m[\u001b[49m\u001b[38;5;124;43m\"\u001b[39;49m\u001b[38;5;124;43mProduct Name\u001b[39;49m\u001b[38;5;124;43m\"\u001b[39;49m\u001b[43m]\u001b[49m, migrated_query_name, cosine_similarity(vec1, vec2)\u001b[38;5;241m.\u001b[39mflatten()[\u001b[38;5;241m0\u001b[39m],\n\u001b[0;32m     13\u001b[0m              np\u001b[38;5;241m.\u001b[39mintersect1d(\n\u001b[0;32m     14\u001b[0m                  new_query_value\u001b[38;5;241m.\u001b[39mget(\u001b[38;5;124m\"\u001b[39m\u001b[38;5;124mcolumns_cleansed\u001b[39m\u001b[38;5;124m\"\u001b[39m, []),\n\u001b[0;32m     15\u001b[0m                  migrated_query_value\u001b[38;5;241m.\u001b[39mget(\u001b[38;5;124m\"\u001b[39m\u001b[38;5;124mcolumns_cleansed\u001b[39m\u001b[38;5;124m\"\u001b[39m, [])\n\u001b[0;32m     16\u001b[0m                 ),\n\u001b[0;32m     17\u001b[0m              np\u001b[38;5;241m.\u001b[39mintersect1d(\n\u001b[0;32m     18\u001b[0m                  new_query_value\u001b[38;5;241m.\u001b[39mget(\u001b[38;5;124m\"\u001b[39m\u001b[38;5;124mtables_cleansed\u001b[39m\u001b[38;5;124m\"\u001b[39m, []),\n\u001b[0;32m     19\u001b[0m                  migrated_query_value\u001b[38;5;241m.\u001b[39mget(\u001b[38;5;124m\"\u001b[39m\u001b[38;5;124mtables_cleansed\u001b[39m\u001b[38;5;124m\"\u001b[39m, [])\n\u001b[0;32m     20\u001b[0m                 )\n\u001b[0;32m     21\u001b[0m             ]\n\u001b[0;32m     22\u001b[0m         )\n\u001b[0;32m     24\u001b[0m \u001b[38;5;28;01mreturn\u001b[39;00m pd\u001b[38;5;241m.\u001b[39mDataFrame(\n\u001b[0;32m     25\u001b[0m     data\u001b[38;5;241m=\u001b[39msimilarities,\n\u001b[0;32m     26\u001b[0m     columns\u001b[38;5;241m=\u001b[39m[\n\u001b[1;32m   (...)\u001b[0m\n\u001b[0;32m     32\u001b[0m     ]\n\u001b[0;32m     33\u001b[0m )\u001b[38;5;241m.\u001b[39msort_values(by\u001b[38;5;241m=\u001b[39m[\u001b[38;5;124m\"\u001b[39m\u001b[38;5;124mnew_report_name\u001b[39m\u001b[38;5;124m\"\u001b[39m, \u001b[38;5;124m\"\u001b[39m\u001b[38;5;124msimilarity\u001b[39m\u001b[38;5;124m\"\u001b[39m], ascending\u001b[38;5;241m=\u001b[39m[\u001b[38;5;28;01mTrue\u001b[39;00m, \u001b[38;5;28;01mFalse\u001b[39;00m])\n",
      "\u001b[1;31mTypeError\u001b[0m: string indices must be integers, not 'str'"
     ]
    }
   ],
   "source": [
    "res = calculate_query_similarity()"
   ]
  },
  {
   "cell_type": "code",
   "execution_count": 7,
   "metadata": {},
   "outputs": [],
   "source": [
    "res.to_excel('./Results/similarity_report_embedding.xlsx', index=False)"
   ]
  },
  {
   "cell_type": "markdown",
   "metadata": {},
   "source": [
    "##### `load_query_data`"
   ]
  },
  {
   "cell_type": "code",
   "execution_count": 4,
   "metadata": {},
   "outputs": [],
   "source": [
    "def load_query_data(PATH):\n",
    "\n",
    "    with open(PATH) as f:\n",
    "        query_meta_data = json.load(f)\n",
    "\n",
    "    return query_meta_data"
   ]
  },
  {
   "cell_type": "markdown",
   "metadata": {},
   "source": [
    "##### `calculate_similarity`"
   ]
  },
  {
   "cell_type": "code",
   "execution_count": null,
   "metadata": {},
   "outputs": [],
   "source": [
    "def calculate_similarity(migrated_queries, new_queries):\n",
    "\n",
    "    similarities = []\n",
    "\n",
    "    for new_query_name, new_query_value in new_queries.items():\n",
    "        vec1 = np.array(new_query_value.get(\"embedding\", [])).reshape(1, -1)\n",
    "\n",
    "        for migrated_query_name, migrated_query_value in migrated_queries.items():\n",
    "            vec2 = np.array(migrated_query_value.get(\"embedding\", [])).reshape(1, -1)\n",
    "\n",
    "            similarities.append(\n",
    "                [new_query_name, migrated_query_name, cosine_similarity(vec1, vec2).flatten()[0],\n",
    "                 np.intersect1d(\n",
    "                     new_query_value.get(\"columns_cleansed\", []),\n",
    "                     migrated_query_value.get(\"columns_cleansed\", [])\n",
    "                    ),\n",
    "                 np.intersect1d(\n",
    "                     new_query_value.get(\"tables_cleansed\", []),\n",
    "                     migrated_query_value.get(\"tables_cleansed\", [])\n",
    "                    )\n",
    "                ]\n",
    "            )\n",
    "\n",
    "    return pd.DataFrame(\n",
    "        data=similarities,\n",
    "        columns=[\n",
    "            \"new_report_name\",\n",
    "            \"migrated_report_name\",\n",
    "            \"similarity\",\n",
    "            \"matching_columns\",\n",
    "            \"matching_tables\"\n",
    "        ]\n",
    "    ).sort_values(by=[\"new_report_name\", \"similarity\"], ascending=[True, False])"
   ]
  },
  {
   "cell_type": "code",
   "execution_count": null,
   "metadata": {},
   "outputs": [],
   "source": []
  }
 ],
 "metadata": {
  "kernelspec": {
   "display_name": "Python 3",
   "language": "python",
   "name": "python3"
  },
  "language_info": {
   "codemirror_mode": {
    "name": "ipython",
    "version": 3
   },
   "file_extension": ".py",
   "mimetype": "text/x-python",
   "name": "python",
   "nbconvert_exporter": "python",
   "pygments_lexer": "ipython3",
   "version": "3.13.1"
  }
 },
 "nbformat": 4,
 "nbformat_minor": 2
}
